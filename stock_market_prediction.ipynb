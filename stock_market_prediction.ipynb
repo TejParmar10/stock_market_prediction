{
  "nbformat": 4,
  "nbformat_minor": 0,
  "metadata": {
    "colab": {
      "provenance": [],
      "authorship_tag": "ABX9TyMfxsLhhD/5vSJznF+6JEcI",
      "include_colab_link": true
    },
    "kernelspec": {
      "name": "python3",
      "display_name": "Python 3"
    },
    "language_info": {
      "name": "python"
    }
  },
  "cells": [
    {
      "cell_type": "markdown",
      "metadata": {
        "id": "view-in-github",
        "colab_type": "text"
      },
      "source": [
        "<a href=\"https://colab.research.google.com/github/TejParmar10/stock_market_prediction/blob/main/stock_market_prediction.ipynb\" target=\"_parent\"><img src=\"https://colab.research.google.com/assets/colab-badge.svg\" alt=\"Open In Colab\"/></a>"
      ]
    },
    {
      "cell_type": "code",
      "execution_count": 1,
      "metadata": {
        "colab": {
          "base_uri": "https://localhost:8080/"
        },
        "id": "1ShqMGuLqaEJ",
        "outputId": "5f0b0021-3076-4a15-c911-a8e21cd0bd5e"
      },
      "outputs": [
        {
          "output_type": "stream",
          "name": "stdout",
          "text": [
            "            Date    Open    High     Low    Last   Close  \\\n",
            "0     2018-09-28  234.05  235.95  230.20  233.50  233.75   \n",
            "1     2018-09-27  234.55  236.80  231.10  233.80  233.25   \n",
            "2     2018-09-26  240.00  240.00  232.50  235.00  234.25   \n",
            "3     2018-09-25  233.30  236.75  232.00  236.25  236.10   \n",
            "4     2018-09-24  233.55  239.20  230.75  234.00  233.30   \n",
            "...          ...     ...     ...     ...     ...     ...   \n",
            "2030  2010-07-27  117.60  119.50  112.00  118.80  118.65   \n",
            "2031  2010-07-26  120.10  121.00  117.10  117.10  117.60   \n",
            "2032  2010-07-23  121.80  121.95  120.25  120.35  120.65   \n",
            "2033  2010-07-22  120.30  122.00  120.25  120.75  120.90   \n",
            "2034  2010-07-21  122.10  123.00  121.05  121.10  121.55   \n",
            "\n",
            "      Total Trade Quantity  Turnover (Lacs)  \n",
            "0                  3069914          7162.35  \n",
            "1                  5082859         11859.95  \n",
            "2                  2240909          5248.60  \n",
            "3                  2349368          5503.90  \n",
            "4                  3423509          7999.55  \n",
            "...                    ...              ...  \n",
            "2030                586100           694.98  \n",
            "2031                658440           780.01  \n",
            "2032                281312           340.31  \n",
            "2033                293312           355.17  \n",
            "2034                658666           803.56  \n",
            "\n",
            "[2035 rows x 8 columns]\n"
          ]
        },
        {
          "output_type": "execute_result",
          "data": {
            "text/plain": [
              "Date                    False\n",
              "Open                    False\n",
              "High                    False\n",
              "Low                     False\n",
              "Last                    False\n",
              "Close                   False\n",
              "Total Trade Quantity    False\n",
              "Turnover (Lacs)         False\n",
              "dtype: bool"
            ]
          },
          "metadata": {},
          "execution_count": 1
        }
      ],
      "source": [
        "import pandas as pd\n",
        "import pandas_datareader as pdr\n",
        "import numpy as np\n",
        "url='https://raw.githubusercontent.com/mwitiderrick/stockprice/master/NSE-TATAGLOBAL.csv'\n",
        "data= pd.read_csv(\n",
        "    url,\n",
        "    sep=',',\n",
        "    encoding='utf-8',\n",
        ")\n",
        "print(data)\n",
        "data.isna().any()"
      ]
    },
    {
      "cell_type": "code",
      "source": [
        "df=pdr.get_data_tiingo('AAPL',api_key='b8ff655b05592100b3894dcd2b7efcc2ad825a74')"
      ],
      "metadata": {
        "colab": {
          "base_uri": "https://localhost:8080/"
        },
        "id": "EzfKTM4wvM6V",
        "outputId": "a91b3847-1c15-48cd-c039-cb3dd4a00462"
      },
      "execution_count": 2,
      "outputs": [
        {
          "output_type": "stream",
          "name": "stderr",
          "text": [
            "<ipython-input-2-1ed07f8ac249>:1: FutureWarning: In a future version of pandas all arguments of concat except for the argument 'objs' will be keyword-only.\n",
            "  df=pdr.get_data_tiingo('AAPL',api_key='b8ff655b05592100b3894dcd2b7efcc2ad825a74')\n"
          ]
        }
      ]
    },
    {
      "cell_type": "code",
      "source": [
        "!pip install pandas_datareader\n",
        "import pandas_datareader as pdr\n",
        "\n",
        "api_key = 'b8ff655b05592100b3894dcd2b7efcc2ad825a74'"
      ],
      "metadata": {
        "colab": {
          "base_uri": "https://localhost:8080/"
        },
        "id": "xpob5nd3Jz6p",
        "outputId": "50f3f8b9-f21c-4336-ae71-07b3579bbece"
      },
      "execution_count": 3,
      "outputs": [
        {
          "output_type": "stream",
          "name": "stdout",
          "text": [
            "Requirement already satisfied: pandas_datareader in /usr/local/lib/python3.10/dist-packages (0.10.0)\n",
            "Requirement already satisfied: lxml in /usr/local/lib/python3.10/dist-packages (from pandas_datareader) (4.9.4)\n",
            "Requirement already satisfied: pandas>=0.23 in /usr/local/lib/python3.10/dist-packages (from pandas_datareader) (1.5.3)\n",
            "Requirement already satisfied: requests>=2.19.0 in /usr/local/lib/python3.10/dist-packages (from pandas_datareader) (2.31.0)\n",
            "Requirement already satisfied: python-dateutil>=2.8.1 in /usr/local/lib/python3.10/dist-packages (from pandas>=0.23->pandas_datareader) (2.8.2)\n",
            "Requirement already satisfied: pytz>=2020.1 in /usr/local/lib/python3.10/dist-packages (from pandas>=0.23->pandas_datareader) (2023.4)\n",
            "Requirement already satisfied: numpy>=1.21.0 in /usr/local/lib/python3.10/dist-packages (from pandas>=0.23->pandas_datareader) (1.23.5)\n",
            "Requirement already satisfied: charset-normalizer<4,>=2 in /usr/local/lib/python3.10/dist-packages (from requests>=2.19.0->pandas_datareader) (3.3.2)\n",
            "Requirement already satisfied: idna<4,>=2.5 in /usr/local/lib/python3.10/dist-packages (from requests>=2.19.0->pandas_datareader) (3.6)\n",
            "Requirement already satisfied: urllib3<3,>=1.21.1 in /usr/local/lib/python3.10/dist-packages (from requests>=2.19.0->pandas_datareader) (2.0.7)\n",
            "Requirement already satisfied: certifi>=2017.4.17 in /usr/local/lib/python3.10/dist-packages (from requests>=2.19.0->pandas_datareader) (2024.2.2)\n",
            "Requirement already satisfied: six>=1.5 in /usr/local/lib/python3.10/dist-packages (from python-dateutil>=2.8.1->pandas>=0.23->pandas_datareader) (1.16.0)\n"
          ]
        }
      ]
    },
    {
      "cell_type": "code",
      "source": [
        "df.to_csv('AAPL.csv')"
      ],
      "metadata": {
        "id": "o4o6zPttJ0Bn"
      },
      "execution_count": 4,
      "outputs": []
    },
    {
      "cell_type": "code",
      "source": [
        "import pandas as pd\n",
        "df=pd.read_csv('AAPL.csv')\n",
        "df.head()"
      ],
      "metadata": {
        "colab": {
          "base_uri": "https://localhost:8080/",
          "height": 293
        },
        "id": "OWYwzBqSJ0IN",
        "outputId": "ed6017a1-f89d-4817-9933-0edca01c08f2"
      },
      "execution_count": 5,
      "outputs": [
        {
          "output_type": "execute_result",
          "data": {
            "text/plain": [
              "  symbol                       date   close    high     low    open    volume  \\\n",
              "0   AAPL  2019-02-11 00:00:00+00:00  169.43  171.21  169.25  171.05  20993425   \n",
              "1   AAPL  2019-02-12 00:00:00+00:00  170.89  171.00  169.70  170.10  22283523   \n",
              "2   AAPL  2019-02-13 00:00:00+00:00  170.18  172.48  169.92  171.39  22490233   \n",
              "3   AAPL  2019-02-14 00:00:00+00:00  170.80  171.26  169.38  169.71  21835747   \n",
              "4   AAPL  2019-02-15 00:00:00+00:00  170.42  171.70  169.75  171.25  24626814   \n",
              "\n",
              "    adjClose    adjHigh     adjLow    adjOpen  adjVolume  divCash  splitFactor  \n",
              "0  40.776245  41.204633  40.732925  41.166126   83973700      0.0          1.0  \n",
              "1  41.127619  41.154092  40.841225  40.937492   89134092      0.0          1.0  \n",
              "2  40.956745  41.510280  40.894172  41.247953   89960932      0.0          1.0  \n",
              "3  41.105959  41.216666  40.764212  40.843632   87342988      0.0          1.0  \n",
              "4  41.014505  41.322559  40.853258  41.214259   98507256      0.0          1.0  "
            ],
            "text/html": [
              "\n",
              "  <div id=\"df-c529bf94-b524-4b77-ae15-8e437d8b749e\" class=\"colab-df-container\">\n",
              "    <div>\n",
              "<style scoped>\n",
              "    .dataframe tbody tr th:only-of-type {\n",
              "        vertical-align: middle;\n",
              "    }\n",
              "\n",
              "    .dataframe tbody tr th {\n",
              "        vertical-align: top;\n",
              "    }\n",
              "\n",
              "    .dataframe thead th {\n",
              "        text-align: right;\n",
              "    }\n",
              "</style>\n",
              "<table border=\"1\" class=\"dataframe\">\n",
              "  <thead>\n",
              "    <tr style=\"text-align: right;\">\n",
              "      <th></th>\n",
              "      <th>symbol</th>\n",
              "      <th>date</th>\n",
              "      <th>close</th>\n",
              "      <th>high</th>\n",
              "      <th>low</th>\n",
              "      <th>open</th>\n",
              "      <th>volume</th>\n",
              "      <th>adjClose</th>\n",
              "      <th>adjHigh</th>\n",
              "      <th>adjLow</th>\n",
              "      <th>adjOpen</th>\n",
              "      <th>adjVolume</th>\n",
              "      <th>divCash</th>\n",
              "      <th>splitFactor</th>\n",
              "    </tr>\n",
              "  </thead>\n",
              "  <tbody>\n",
              "    <tr>\n",
              "      <th>0</th>\n",
              "      <td>AAPL</td>\n",
              "      <td>2019-02-11 00:00:00+00:00</td>\n",
              "      <td>169.43</td>\n",
              "      <td>171.21</td>\n",
              "      <td>169.25</td>\n",
              "      <td>171.05</td>\n",
              "      <td>20993425</td>\n",
              "      <td>40.776245</td>\n",
              "      <td>41.204633</td>\n",
              "      <td>40.732925</td>\n",
              "      <td>41.166126</td>\n",
              "      <td>83973700</td>\n",
              "      <td>0.0</td>\n",
              "      <td>1.0</td>\n",
              "    </tr>\n",
              "    <tr>\n",
              "      <th>1</th>\n",
              "      <td>AAPL</td>\n",
              "      <td>2019-02-12 00:00:00+00:00</td>\n",
              "      <td>170.89</td>\n",
              "      <td>171.00</td>\n",
              "      <td>169.70</td>\n",
              "      <td>170.10</td>\n",
              "      <td>22283523</td>\n",
              "      <td>41.127619</td>\n",
              "      <td>41.154092</td>\n",
              "      <td>40.841225</td>\n",
              "      <td>40.937492</td>\n",
              "      <td>89134092</td>\n",
              "      <td>0.0</td>\n",
              "      <td>1.0</td>\n",
              "    </tr>\n",
              "    <tr>\n",
              "      <th>2</th>\n",
              "      <td>AAPL</td>\n",
              "      <td>2019-02-13 00:00:00+00:00</td>\n",
              "      <td>170.18</td>\n",
              "      <td>172.48</td>\n",
              "      <td>169.92</td>\n",
              "      <td>171.39</td>\n",
              "      <td>22490233</td>\n",
              "      <td>40.956745</td>\n",
              "      <td>41.510280</td>\n",
              "      <td>40.894172</td>\n",
              "      <td>41.247953</td>\n",
              "      <td>89960932</td>\n",
              "      <td>0.0</td>\n",
              "      <td>1.0</td>\n",
              "    </tr>\n",
              "    <tr>\n",
              "      <th>3</th>\n",
              "      <td>AAPL</td>\n",
              "      <td>2019-02-14 00:00:00+00:00</td>\n",
              "      <td>170.80</td>\n",
              "      <td>171.26</td>\n",
              "      <td>169.38</td>\n",
              "      <td>169.71</td>\n",
              "      <td>21835747</td>\n",
              "      <td>41.105959</td>\n",
              "      <td>41.216666</td>\n",
              "      <td>40.764212</td>\n",
              "      <td>40.843632</td>\n",
              "      <td>87342988</td>\n",
              "      <td>0.0</td>\n",
              "      <td>1.0</td>\n",
              "    </tr>\n",
              "    <tr>\n",
              "      <th>4</th>\n",
              "      <td>AAPL</td>\n",
              "      <td>2019-02-15 00:00:00+00:00</td>\n",
              "      <td>170.42</td>\n",
              "      <td>171.70</td>\n",
              "      <td>169.75</td>\n",
              "      <td>171.25</td>\n",
              "      <td>24626814</td>\n",
              "      <td>41.014505</td>\n",
              "      <td>41.322559</td>\n",
              "      <td>40.853258</td>\n",
              "      <td>41.214259</td>\n",
              "      <td>98507256</td>\n",
              "      <td>0.0</td>\n",
              "      <td>1.0</td>\n",
              "    </tr>\n",
              "  </tbody>\n",
              "</table>\n",
              "</div>\n",
              "    <div class=\"colab-df-buttons\">\n",
              "\n",
              "  <div class=\"colab-df-container\">\n",
              "    <button class=\"colab-df-convert\" onclick=\"convertToInteractive('df-c529bf94-b524-4b77-ae15-8e437d8b749e')\"\n",
              "            title=\"Convert this dataframe to an interactive table.\"\n",
              "            style=\"display:none;\">\n",
              "\n",
              "  <svg xmlns=\"http://www.w3.org/2000/svg\" height=\"24px\" viewBox=\"0 -960 960 960\">\n",
              "    <path d=\"M120-120v-720h720v720H120Zm60-500h600v-160H180v160Zm220 220h160v-160H400v160Zm0 220h160v-160H400v160ZM180-400h160v-160H180v160Zm440 0h160v-160H620v160ZM180-180h160v-160H180v160Zm440 0h160v-160H620v160Z\"/>\n",
              "  </svg>\n",
              "    </button>\n",
              "\n",
              "  <style>\n",
              "    .colab-df-container {\n",
              "      display:flex;\n",
              "      gap: 12px;\n",
              "    }\n",
              "\n",
              "    .colab-df-convert {\n",
              "      background-color: #E8F0FE;\n",
              "      border: none;\n",
              "      border-radius: 50%;\n",
              "      cursor: pointer;\n",
              "      display: none;\n",
              "      fill: #1967D2;\n",
              "      height: 32px;\n",
              "      padding: 0 0 0 0;\n",
              "      width: 32px;\n",
              "    }\n",
              "\n",
              "    .colab-df-convert:hover {\n",
              "      background-color: #E2EBFA;\n",
              "      box-shadow: 0px 1px 2px rgba(60, 64, 67, 0.3), 0px 1px 3px 1px rgba(60, 64, 67, 0.15);\n",
              "      fill: #174EA6;\n",
              "    }\n",
              "\n",
              "    .colab-df-buttons div {\n",
              "      margin-bottom: 4px;\n",
              "    }\n",
              "\n",
              "    [theme=dark] .colab-df-convert {\n",
              "      background-color: #3B4455;\n",
              "      fill: #D2E3FC;\n",
              "    }\n",
              "\n",
              "    [theme=dark] .colab-df-convert:hover {\n",
              "      background-color: #434B5C;\n",
              "      box-shadow: 0px 1px 3px 1px rgba(0, 0, 0, 0.15);\n",
              "      filter: drop-shadow(0px 1px 2px rgba(0, 0, 0, 0.3));\n",
              "      fill: #FFFFFF;\n",
              "    }\n",
              "  </style>\n",
              "\n",
              "    <script>\n",
              "      const buttonEl =\n",
              "        document.querySelector('#df-c529bf94-b524-4b77-ae15-8e437d8b749e button.colab-df-convert');\n",
              "      buttonEl.style.display =\n",
              "        google.colab.kernel.accessAllowed ? 'block' : 'none';\n",
              "\n",
              "      async function convertToInteractive(key) {\n",
              "        const element = document.querySelector('#df-c529bf94-b524-4b77-ae15-8e437d8b749e');\n",
              "        const dataTable =\n",
              "          await google.colab.kernel.invokeFunction('convertToInteractive',\n",
              "                                                    [key], {});\n",
              "        if (!dataTable) return;\n",
              "\n",
              "        const docLinkHtml = 'Like what you see? Visit the ' +\n",
              "          '<a target=\"_blank\" href=https://colab.research.google.com/notebooks/data_table.ipynb>data table notebook</a>'\n",
              "          + ' to learn more about interactive tables.';\n",
              "        element.innerHTML = '';\n",
              "        dataTable['output_type'] = 'display_data';\n",
              "        await google.colab.output.renderOutput(dataTable, element);\n",
              "        const docLink = document.createElement('div');\n",
              "        docLink.innerHTML = docLinkHtml;\n",
              "        element.appendChild(docLink);\n",
              "      }\n",
              "    </script>\n",
              "  </div>\n",
              "\n",
              "\n",
              "<div id=\"df-f814ac9b-1177-428e-ba6a-1543d8821920\">\n",
              "  <button class=\"colab-df-quickchart\" onclick=\"quickchart('df-f814ac9b-1177-428e-ba6a-1543d8821920')\"\n",
              "            title=\"Suggest charts\"\n",
              "            style=\"display:none;\">\n",
              "\n",
              "<svg xmlns=\"http://www.w3.org/2000/svg\" height=\"24px\"viewBox=\"0 0 24 24\"\n",
              "     width=\"24px\">\n",
              "    <g>\n",
              "        <path d=\"M19 3H5c-1.1 0-2 .9-2 2v14c0 1.1.9 2 2 2h14c1.1 0 2-.9 2-2V5c0-1.1-.9-2-2-2zM9 17H7v-7h2v7zm4 0h-2V7h2v10zm4 0h-2v-4h2v4z\"/>\n",
              "    </g>\n",
              "</svg>\n",
              "  </button>\n",
              "\n",
              "<style>\n",
              "  .colab-df-quickchart {\n",
              "      --bg-color: #E8F0FE;\n",
              "      --fill-color: #1967D2;\n",
              "      --hover-bg-color: #E2EBFA;\n",
              "      --hover-fill-color: #174EA6;\n",
              "      --disabled-fill-color: #AAA;\n",
              "      --disabled-bg-color: #DDD;\n",
              "  }\n",
              "\n",
              "  [theme=dark] .colab-df-quickchart {\n",
              "      --bg-color: #3B4455;\n",
              "      --fill-color: #D2E3FC;\n",
              "      --hover-bg-color: #434B5C;\n",
              "      --hover-fill-color: #FFFFFF;\n",
              "      --disabled-bg-color: #3B4455;\n",
              "      --disabled-fill-color: #666;\n",
              "  }\n",
              "\n",
              "  .colab-df-quickchart {\n",
              "    background-color: var(--bg-color);\n",
              "    border: none;\n",
              "    border-radius: 50%;\n",
              "    cursor: pointer;\n",
              "    display: none;\n",
              "    fill: var(--fill-color);\n",
              "    height: 32px;\n",
              "    padding: 0;\n",
              "    width: 32px;\n",
              "  }\n",
              "\n",
              "  .colab-df-quickchart:hover {\n",
              "    background-color: var(--hover-bg-color);\n",
              "    box-shadow: 0 1px 2px rgba(60, 64, 67, 0.3), 0 1px 3px 1px rgba(60, 64, 67, 0.15);\n",
              "    fill: var(--button-hover-fill-color);\n",
              "  }\n",
              "\n",
              "  .colab-df-quickchart-complete:disabled,\n",
              "  .colab-df-quickchart-complete:disabled:hover {\n",
              "    background-color: var(--disabled-bg-color);\n",
              "    fill: var(--disabled-fill-color);\n",
              "    box-shadow: none;\n",
              "  }\n",
              "\n",
              "  .colab-df-spinner {\n",
              "    border: 2px solid var(--fill-color);\n",
              "    border-color: transparent;\n",
              "    border-bottom-color: var(--fill-color);\n",
              "    animation:\n",
              "      spin 1s steps(1) infinite;\n",
              "  }\n",
              "\n",
              "  @keyframes spin {\n",
              "    0% {\n",
              "      border-color: transparent;\n",
              "      border-bottom-color: var(--fill-color);\n",
              "      border-left-color: var(--fill-color);\n",
              "    }\n",
              "    20% {\n",
              "      border-color: transparent;\n",
              "      border-left-color: var(--fill-color);\n",
              "      border-top-color: var(--fill-color);\n",
              "    }\n",
              "    30% {\n",
              "      border-color: transparent;\n",
              "      border-left-color: var(--fill-color);\n",
              "      border-top-color: var(--fill-color);\n",
              "      border-right-color: var(--fill-color);\n",
              "    }\n",
              "    40% {\n",
              "      border-color: transparent;\n",
              "      border-right-color: var(--fill-color);\n",
              "      border-top-color: var(--fill-color);\n",
              "    }\n",
              "    60% {\n",
              "      border-color: transparent;\n",
              "      border-right-color: var(--fill-color);\n",
              "    }\n",
              "    80% {\n",
              "      border-color: transparent;\n",
              "      border-right-color: var(--fill-color);\n",
              "      border-bottom-color: var(--fill-color);\n",
              "    }\n",
              "    90% {\n",
              "      border-color: transparent;\n",
              "      border-bottom-color: var(--fill-color);\n",
              "    }\n",
              "  }\n",
              "</style>\n",
              "\n",
              "  <script>\n",
              "    async function quickchart(key) {\n",
              "      const quickchartButtonEl =\n",
              "        document.querySelector('#' + key + ' button');\n",
              "      quickchartButtonEl.disabled = true;  // To prevent multiple clicks.\n",
              "      quickchartButtonEl.classList.add('colab-df-spinner');\n",
              "      try {\n",
              "        const charts = await google.colab.kernel.invokeFunction(\n",
              "            'suggestCharts', [key], {});\n",
              "      } catch (error) {\n",
              "        console.error('Error during call to suggestCharts:', error);\n",
              "      }\n",
              "      quickchartButtonEl.classList.remove('colab-df-spinner');\n",
              "      quickchartButtonEl.classList.add('colab-df-quickchart-complete');\n",
              "    }\n",
              "    (() => {\n",
              "      let quickchartButtonEl =\n",
              "        document.querySelector('#df-f814ac9b-1177-428e-ba6a-1543d8821920 button');\n",
              "      quickchartButtonEl.style.display =\n",
              "        google.colab.kernel.accessAllowed ? 'block' : 'none';\n",
              "    })();\n",
              "  </script>\n",
              "</div>\n",
              "\n",
              "    </div>\n",
              "  </div>\n"
            ]
          },
          "metadata": {},
          "execution_count": 5
        }
      ]
    },
    {
      "cell_type": "markdown",
      "source": [],
      "metadata": {
        "id": "V1Spz8ncv1lM"
      }
    },
    {
      "cell_type": "code",
      "source": [
        "df1=df.reset_index()['close']"
      ],
      "metadata": {
        "id": "JRy45_b1vM80"
      },
      "execution_count": 6,
      "outputs": []
    },
    {
      "cell_type": "code",
      "source": [
        "df1.shape"
      ],
      "metadata": {
        "id": "6bkRI7mavM_J",
        "colab": {
          "base_uri": "https://localhost:8080/"
        },
        "outputId": "6b3a0374-1682-4542-c2fd-dff9c228747c"
      },
      "execution_count": 7,
      "outputs": [
        {
          "output_type": "execute_result",
          "data": {
            "text/plain": [
              "(1259,)"
            ]
          },
          "metadata": {},
          "execution_count": 7
        }
      ]
    },
    {
      "cell_type": "code",
      "source": [
        "from sklearn.preprocessing import MinMaxScaler\n",
        "scaler=MinMaxScaler(feature_range=(0,1))\n",
        "df1=scaler.fit_transform(np.array(df1).reshape(-1,1))\n"
      ],
      "metadata": {
        "id": "QT3CIbnRvNBn"
      },
      "execution_count": 8,
      "outputs": []
    },
    {
      "cell_type": "code",
      "source": [
        "training_size=int(len(df1)*0.65)\n",
        "test_size=len(df1)-training_size\n",
        "train_data,test_data=df1[0:training_size,:],df1[training_size:len(df1),:1]"
      ],
      "metadata": {
        "id": "dYGbUXrJvND0"
      },
      "execution_count": 9,
      "outputs": []
    },
    {
      "cell_type": "code",
      "source": [
        "def create_dataset(dataset,time_step=1):\n",
        "  dataX,dataY=[],[]\n",
        "  for i in range(len(dataset)-time_step-1):\n",
        "    a=dataset[i:(i+time_step),0]\n",
        "    dataX.append(a)\n",
        "    dataY.append(dataset[i+ time_step,0])\n",
        "  return np.array(dataX),np.array(dataY)"
      ],
      "metadata": {
        "id": "-zbLVaHFvNGD"
      },
      "execution_count": 10,
      "outputs": []
    },
    {
      "cell_type": "code",
      "source": [
        "time_step=100\n",
        "X_train,Y_train=create_dataset(train_data,time_step)\n",
        "X_test,Y_test=create_dataset(test_data,time_step)"
      ],
      "metadata": {
        "id": "8u7FnDu7vNIx"
      },
      "execution_count": 11,
      "outputs": []
    },
    {
      "cell_type": "code",
      "source": [
        "X_train=X_train.reshape(X_train.shape[0],X_train.shape[1],1)\n",
        "X_test=X_test.reshape(X_test.shape[0],X_test.shape[1],1)"
      ],
      "metadata": {
        "id": "cVPcZqtovNLI"
      },
      "execution_count": 12,
      "outputs": []
    },
    {
      "cell_type": "code",
      "source": [
        "from tensorflow.keras.models import Sequential\n",
        "from tensorflow.keras.layers import Dense, LSTM"
      ],
      "metadata": {
        "id": "7-UWBx2kvNNe"
      },
      "execution_count": 13,
      "outputs": []
    },
    {
      "cell_type": "code",
      "source": [
        "model=Sequential()\n",
        "model.add(LSTM(50,return_sequences=True,input_shape=(100,1)))\n",
        "model.add(LSTM(50,return_sequences=True))\n",
        "model.add(LSTM(50))\n",
        "model.add(Dense(1))\n",
        "model.compile(loss='mean_squared_error',optimizer='adam')"
      ],
      "metadata": {
        "id": "JtRMbQzDvNPj"
      },
      "execution_count": 14,
      "outputs": []
    },
    {
      "cell_type": "code",
      "source": [
        "model.summary()"
      ],
      "metadata": {
        "id": "ZeVsMhUJvNSK",
        "colab": {
          "base_uri": "https://localhost:8080/"
        },
        "outputId": "f17f5cd3-62db-48b4-fbe8-f78bc5919115"
      },
      "execution_count": 15,
      "outputs": [
        {
          "output_type": "stream",
          "name": "stdout",
          "text": [
            "Model: \"sequential\"\n",
            "_________________________________________________________________\n",
            " Layer (type)                Output Shape              Param #   \n",
            "=================================================================\n",
            " lstm (LSTM)                 (None, 100, 50)           10400     \n",
            "                                                                 \n",
            " lstm_1 (LSTM)               (None, 100, 50)           20200     \n",
            "                                                                 \n",
            " lstm_2 (LSTM)               (None, 50)                20200     \n",
            "                                                                 \n",
            " dense (Dense)               (None, 1)                 51        \n",
            "                                                                 \n",
            "=================================================================\n",
            "Total params: 50851 (198.64 KB)\n",
            "Trainable params: 50851 (198.64 KB)\n",
            "Non-trainable params: 0 (0.00 Byte)\n",
            "_________________________________________________________________\n"
          ]
        }
      ]
    },
    {
      "cell_type": "code",
      "source": [
        "model.fit(X_train,Y_train,validation_data=(X_test,Y_test),epochs=100,batch_size=64,verbose=1)"
      ],
      "metadata": {
        "colab": {
          "base_uri": "https://localhost:8080/"
        },
        "id": "5B1TpCGucF25",
        "outputId": "b167424e-c612-46d9-cf84-f86e4cf6151b"
      },
      "execution_count": null,
      "outputs": [
        {
          "output_type": "stream",
          "name": "stdout",
          "text": [
            "Epoch 1/100\n",
            "12/12 [==============================] - 9s 290ms/step - loss: 0.0424 - val_loss: 0.0012\n",
            "Epoch 2/100\n",
            "12/12 [==============================] - 3s 248ms/step - loss: 0.0119 - val_loss: 0.0011\n",
            "Epoch 3/100\n",
            "12/12 [==============================] - 2s 183ms/step - loss: 0.0103 - val_loss: 3.5812e-04\n",
            "Epoch 4/100\n",
            "12/12 [==============================] - 2s 167ms/step - loss: 0.0088 - val_loss: 2.8218e-04\n",
            "Epoch 5/100\n",
            "12/12 [==============================] - 2s 164ms/step - loss: 0.0077 - val_loss: 0.0013\n",
            "Epoch 6/100\n",
            "12/12 [==============================] - 2s 163ms/step - loss: 0.0083 - val_loss: 3.5195e-04\n",
            "Epoch 7/100\n",
            "12/12 [==============================] - 2s 164ms/step - loss: 0.0069 - val_loss: 6.2847e-04\n",
            "Epoch 8/100\n",
            "12/12 [==============================] - 3s 240ms/step - loss: 0.0068 - val_loss: 0.0020\n",
            "Epoch 9/100\n",
            "12/12 [==============================] - 2s 189ms/step - loss: 0.0057 - val_loss: 2.5066e-04\n",
            "Epoch 10/100\n",
            "12/12 [==============================] - 3s 257ms/step - loss: 0.0049 - val_loss: 3.5650e-04\n",
            "Epoch 11/100\n",
            "12/12 [==============================] - 4s 311ms/step - loss: 0.0043 - val_loss: 2.8054e-04\n",
            "Epoch 12/100\n",
            "12/12 [==============================] - 5s 426ms/step - loss: 0.0042 - val_loss: 4.8847e-04\n",
            "Epoch 13/100\n",
            "12/12 [==============================] - 4s 353ms/step - loss: 0.0038 - val_loss: 2.6107e-04\n",
            "Epoch 14/100\n",
            "12/12 [==============================] - 4s 332ms/step - loss: 0.0055 - val_loss: 2.6485e-04\n",
            "Epoch 15/100\n",
            "12/12 [==============================] - 3s 252ms/step - loss: 0.0041 - val_loss: 6.0779e-04\n",
            "Epoch 16/100\n",
            "12/12 [==============================] - 2s 164ms/step - loss: 0.0032 - val_loss: 3.1132e-04\n",
            "Epoch 17/100\n",
            "12/12 [==============================] - 2s 163ms/step - loss: 0.0033 - val_loss: 2.1502e-04\n",
            "Epoch 18/100\n",
            "12/12 [==============================] - 2s 160ms/step - loss: 0.0029 - val_loss: 3.3827e-04\n",
            "Epoch 19/100\n",
            "12/12 [==============================] - 2s 163ms/step - loss: 0.0029 - val_loss: 2.8261e-04\n",
            "Epoch 20/100\n",
            "12/12 [==============================] - 2s 167ms/step - loss: 0.0038 - val_loss: 1.7799e-04\n",
            "Epoch 21/100\n",
            "12/12 [==============================] - 3s 235ms/step - loss: 0.0031 - val_loss: 1.7646e-04\n",
            "Epoch 22/100\n",
            "12/12 [==============================] - 2s 164ms/step - loss: 0.0029 - val_loss: 3.0364e-04\n",
            "Epoch 23/100\n",
            "12/12 [==============================] - 2s 161ms/step - loss: 0.0023 - val_loss: 2.1335e-04\n",
            "Epoch 24/100\n",
            "12/12 [==============================] - 2s 161ms/step - loss: 0.0021 - val_loss: 1.8922e-04\n",
            "Epoch 25/100\n",
            "12/12 [==============================] - 2s 162ms/step - loss: 0.0029 - val_loss: 1.9367e-04\n",
            "Epoch 26/100\n",
            "12/12 [==============================] - 2s 199ms/step - loss: 0.0026 - val_loss: 2.7414e-04\n",
            "Epoch 27/100\n",
            "12/12 [==============================] - 2s 206ms/step - loss: 0.0021 - val_loss: 2.6254e-04\n",
            "Epoch 28/100\n",
            "12/12 [==============================] - 2s 165ms/step - loss: 0.0024 - val_loss: 2.2420e-04\n",
            "Epoch 29/100\n",
            "12/12 [==============================] - 2s 162ms/step - loss: 0.0020 - val_loss: 2.3465e-04\n",
            "Epoch 30/100\n",
            "12/12 [==============================] - 2s 161ms/step - loss: 0.0020 - val_loss: 1.9060e-04\n",
            "Epoch 31/100\n",
            "12/12 [==============================] - 2s 164ms/step - loss: 0.0018 - val_loss: 2.3675e-04\n",
            "Epoch 32/100\n",
            "12/12 [==============================] - 2s 201ms/step - loss: 0.0024 - val_loss: 1.8497e-04\n",
            "Epoch 33/100\n",
            "12/12 [==============================] - 2s 196ms/step - loss: 0.0016 - val_loss: 2.2241e-04\n",
            "Epoch 34/100\n",
            "12/12 [==============================] - 2s 164ms/step - loss: 0.0082 - val_loss: 6.9170e-04\n",
            "Epoch 35/100\n",
            "12/12 [==============================] - 2s 162ms/step - loss: 0.0054 - val_loss: 0.0010\n",
            "Epoch 36/100\n",
            "12/12 [==============================] - 2s 167ms/step - loss: 0.0036 - val_loss: 1.7928e-04\n",
            "Epoch 37/100\n",
            "12/12 [==============================] - 2s 163ms/step - loss: 0.0030 - val_loss: 2.2863e-04\n",
            "Epoch 38/100\n",
            "12/12 [==============================] - 3s 218ms/step - loss: 0.0026 - val_loss: 3.1842e-04\n",
            "Epoch 39/100\n",
            "12/12 [==============================] - 2s 181ms/step - loss: 0.0027 - val_loss: 2.0681e-04\n",
            "Epoch 40/100\n",
            "12/12 [==============================] - 2s 162ms/step - loss: 0.0025 - val_loss: 2.2484e-04\n",
            "Epoch 41/100\n",
            "12/12 [==============================] - 2s 162ms/step - loss: 0.0023 - val_loss: 1.7374e-04\n",
            "Epoch 42/100\n",
            "12/12 [==============================] - 2s 162ms/step - loss: 0.0021 - val_loss: 2.5456e-04\n",
            "Epoch 43/100\n",
            "12/12 [==============================] - 2s 164ms/step - loss: 0.0018 - val_loss: 1.9938e-04\n",
            "Epoch 44/100\n",
            "12/12 [==============================] - 3s 245ms/step - loss: 0.0017 - val_loss: 1.7307e-04\n",
            "Epoch 45/100\n",
            "12/12 [==============================] - 2s 165ms/step - loss: 0.0020 - val_loss: 1.9077e-04\n",
            "Epoch 46/100\n",
            "12/12 [==============================] - 2s 163ms/step - loss: 0.0018 - val_loss: 1.7380e-04\n",
            "Epoch 47/100\n",
            "12/12 [==============================] - 2s 165ms/step - loss: 0.0020 - val_loss: 3.4347e-04\n",
            "Epoch 48/100\n",
            "12/12 [==============================] - 2s 164ms/step - loss: 0.0016 - val_loss: 1.9529e-04\n",
            "Epoch 49/100\n",
            "12/12 [==============================] - 2s 164ms/step - loss: 0.0017 - val_loss: 1.7139e-04\n",
            "Epoch 50/100\n",
            "12/12 [==============================] - 3s 249ms/step - loss: 0.0017 - val_loss: 2.4604e-04\n",
            "Epoch 51/100\n",
            "12/12 [==============================] - 2s 164ms/step - loss: 0.0022 - val_loss: 2.5213e-04\n",
            "Epoch 52/100\n",
            "12/12 [==============================] - 2s 163ms/step - loss: 0.0014 - val_loss: 1.8784e-04\n",
            "Epoch 53/100\n",
            "12/12 [==============================] - 2s 162ms/step - loss: 0.0028 - val_loss: 2.2138e-04\n",
            "Epoch 54/100\n",
            "12/12 [==============================] - 2s 164ms/step - loss: 0.0024 - val_loss: 3.1634e-04\n",
            "Epoch 55/100\n",
            "12/12 [==============================] - 2s 165ms/step - loss: 0.0019 - val_loss: 2.5784e-04\n",
            "Epoch 56/100\n",
            "12/12 [==============================] - 3s 241ms/step - loss: 0.0030 - val_loss: 2.1516e-04\n",
            "Epoch 57/100\n",
            "12/12 [==============================] - 3s 235ms/step - loss: 0.0024 - val_loss: 2.4943e-04\n",
            "Epoch 58/100\n",
            "12/12 [==============================] - 2s 165ms/step - loss: 0.0018 - val_loss: 2.7747e-04\n",
            "Epoch 59/100\n",
            "12/12 [==============================] - 2s 163ms/step - loss: 0.0015 - val_loss: 1.8185e-04\n",
            "Epoch 60/100\n",
            "12/12 [==============================] - 2s 164ms/step - loss: 0.0016 - val_loss: 2.2852e-04\n",
            "Epoch 61/100\n",
            "12/12 [==============================] - 3s 259ms/step - loss: 0.0023 - val_loss: 2.5117e-04\n",
            "Epoch 62/100\n",
            "12/12 [==============================] - 2s 165ms/step - loss: 0.0054 - val_loss: 8.2268e-04\n",
            "Epoch 63/100\n",
            "12/12 [==============================] - 2s 163ms/step - loss: 0.0053 - val_loss: 2.8980e-04\n",
            "Epoch 64/100\n",
            "12/12 [==============================] - 2s 161ms/step - loss: 0.0040 - val_loss: 1.5788e-04\n",
            "Epoch 65/100\n",
            "12/12 [==============================] - 2s 163ms/step - loss: 0.0066 - val_loss: 6.0867e-04\n",
            "Epoch 66/100\n",
            "12/12 [==============================] - 2s 163ms/step - loss: 0.0049 - val_loss: 6.2199e-04\n",
            "Epoch 67/100\n",
            "12/12 [==============================] - 3s 248ms/step - loss: 0.0039 - val_loss: 2.2140e-04\n",
            "Epoch 68/100\n",
            "12/12 [==============================] - 2s 163ms/step - loss: 0.0032 - val_loss: 2.0862e-04\n",
            "Epoch 69/100\n",
            "12/12 [==============================] - 2s 163ms/step - loss: 0.0028 - val_loss: 1.8684e-04\n",
            "Epoch 70/100\n",
            "12/12 [==============================] - 2s 164ms/step - loss: 0.0029 - val_loss: 2.7422e-04\n",
            "Epoch 71/100\n",
            "12/12 [==============================] - 2s 164ms/step - loss: 0.0028 - val_loss: 2.9872e-04\n",
            "Epoch 72/100\n",
            "12/12 [==============================] - 2s 197ms/step - loss: 0.0027 - val_loss: 2.1760e-04\n",
            "Epoch 73/100\n"
          ]
        }
      ]
    },
    {
      "cell_type": "code",
      "source": [
        "train_predict=model.predict(X_train)\n",
        "test_predict=model.predict(X_test)"
      ],
      "metadata": {
        "id": "UNx6FNcUcF5l"
      },
      "execution_count": null,
      "outputs": []
    },
    {
      "cell_type": "code",
      "source": [
        "train_predict=scaler.inverse_transform(train_predict)\n",
        "test_predict=scaler.inverse_transform(test_predict)"
      ],
      "metadata": {
        "id": "ZSVIv-61cF8M"
      },
      "execution_count": null,
      "outputs": []
    },
    {
      "cell_type": "code",
      "source": [
        "import math\n",
        "from sklearn.metrics import mean_squared_error\n",
        "math.sqrt(mean_squared_error(Y_train,train_predict))"
      ],
      "metadata": {
        "id": "_KWQlSIecF-p"
      },
      "execution_count": null,
      "outputs": []
    },
    {
      "cell_type": "code",
      "source": [
        "math.sqrt(mean_squared_error(Y_test,test_predict))"
      ],
      "metadata": {
        "id": "YbvINYDhcGA4"
      },
      "execution_count": null,
      "outputs": []
    },
    {
      "cell_type": "code",
      "source": [
        "import matplotlib.pyplot as plt\n",
        "look_back=100\n",
        "trainPredictplot=np.empty_like(df1)\n",
        "trainPredictplot[:, :]=np.nan\n",
        "trainPredictplot[look_back:len(train_predict)+look_back,:]=train_predict\n",
        "testPredictplot=np.empty_like(df1)\n",
        "testPredictplot[: , :]=np.nan\n",
        "testPredictplot[len(train_predict)+(look_back*2)+1:len(df1)-1,:]=test_predict\n",
        "plt.plot(scaler.inverse_transform(df1))\n",
        "plt.plot(trainPredictplot)\n",
        "plt.plot(testPredictplot)\n",
        "plt.show()"
      ],
      "metadata": {
        "id": "U0EtCsEdcGDE"
      },
      "execution_count": null,
      "outputs": []
    },
    {
      "cell_type": "code",
      "source": [
        "x_input=test_data[341:].reshape(1,-1)\n",
        "x_input.shape"
      ],
      "metadata": {
        "id": "cfUJd4xlcGFL"
      },
      "execution_count": null,
      "outputs": []
    },
    {
      "cell_type": "code",
      "source": [
        "temp_input=list(x_input)\n",
        "temp_input=temp_input[0].tolist()"
      ],
      "metadata": {
        "id": "zoSX5SIkcGHv"
      },
      "execution_count": null,
      "outputs": []
    },
    {
      "cell_type": "code",
      "source": [
        "lst_output=[]\n",
        "n_steps=100\n",
        "i=0\n",
        "while(i<30):\n",
        "  if(len(temp_input)>100):\n",
        "    x_input=np.array(temp_input[1:])\n",
        "    print(\"{} day input {}\".format(i,x_input))\n",
        "    x_input=x_input.reshape(1,-1)\n",
        "    x_input=x_input.reshape((1,n_steps,1))\n",
        "    yhat=model.predict(x_input,verbose=0)\n",
        "    print(\"{} day output {}\".format(i,yhat))\n",
        "    temp_input.extend(yhat[0].tolist())\n",
        "    temp_input=temp_input[1:]\n",
        "    lst_output.extend(yhat.tolist())\n",
        "    i=i+1\n",
        "  else:\n",
        "    x_input=x_input.reshape((1,n_steps,1))\n",
        "    yhat=model.predict(x_input,verbose=0)\n",
        "    print(yhat[0])\n",
        "    temp_input.extend(yhat[0].tolist())\n",
        "    print(len(temp_input))\n",
        "    lst_output.extend(yhat.tolist())\n",
        "    i=i+1\n",
        "print(lst_output)\n"
      ],
      "metadata": {
        "id": "n6aXGICJcGKA"
      },
      "execution_count": null,
      "outputs": []
    },
    {
      "cell_type": "code",
      "source": [
        "day_new=np.arange(1,101)\n",
        "day_pred=np.arange(101,131)"
      ],
      "metadata": {
        "id": "X_k0x-90cGMc"
      },
      "execution_count": null,
      "outputs": []
    },
    {
      "cell_type": "code",
      "source": [
        "df3=df1.tolist()\n",
        "df3.extend(lst_output)"
      ],
      "metadata": {
        "id": "-Hx5acB3cGPF"
      },
      "execution_count": null,
      "outputs": []
    },
    {
      "cell_type": "code",
      "source": [
        "plt.plot(day_new,scale.inverse_transform(df1))"
      ],
      "metadata": {
        "id": "cKjzR_hbvNUf"
      },
      "execution_count": null,
      "outputs": []
    },
    {
      "cell_type": "code",
      "source": [],
      "metadata": {
        "id": "yhqRHtJuvNXG"
      },
      "execution_count": null,
      "outputs": []
    },
    {
      "cell_type": "code",
      "source": [],
      "metadata": {
        "id": "TNbBkKLgvNZU"
      },
      "execution_count": null,
      "outputs": []
    },
    {
      "cell_type": "code",
      "source": [],
      "metadata": {
        "id": "uQsOLeJevNbV"
      },
      "execution_count": null,
      "outputs": []
    }
  ]
}